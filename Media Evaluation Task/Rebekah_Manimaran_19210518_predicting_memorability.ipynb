{
 "cells": [
  {
   "cell_type": "markdown",
   "metadata": {},
   "source": [
    "**Importing all the neccessary libraries to process model building**"
   ]
  },
  {
   "cell_type": "code",
   "execution_count": 10,
   "metadata": {},
   "outputs": [
    {
     "name": "stderr",
     "output_type": "stream",
     "text": [
      "[nltk_data] Downloading package stopwords to\n",
      "[nltk_data]     /home/jupyter/nltk_data...\n",
      "[nltk_data]   Package stopwords is already up-to-date!\n",
      "[nltk_data] Downloading package wordnet to /home/jupyter/nltk_data...\n",
      "[nltk_data]   Package wordnet is already up-to-date!\n"
     ]
    },
    {
     "name": "stdout",
     "output_type": "stream",
     "text": [
      "Requirement already satisfied: seed in /opt/conda/lib/python3.7/site-packages (0.11.3)\n",
      "Requirement already satisfied: path.py<11,>=10 in /opt/conda/lib/python3.7/site-packages (from seed) (10.6)\n",
      "Requirement already satisfied: wheel in /opt/conda/lib/python3.7/site-packages (from seed) (0.34.2)\n"
     ]
    }
   ],
   "source": [
    "import pandas as pd\n",
    "import numpy as np\n",
    "from string import punctuation\n",
    "import nltk\n",
    "nltk.download('stopwords')\n",
    "from nltk.corpus import stopwords\n",
    "nltk.download('wordnet')\n",
    "import re\n",
    "from nltk.stem import WordNetLemmatizer\n",
    "import os\n",
    "import glob\n",
    "!pip install seed\n",
    "from numpy.random import seed\n",
    "seed(1)"
   ]
  },
  {
   "cell_type": "markdown",
   "metadata": {},
   "source": [
    "**Function used to read the caption feature**"
   ]
  },
  {
   "cell_type": "code",
   "execution_count": 11,
   "metadata": {},
   "outputs": [],
   "source": [
    "def caption_read(fname):\n",
    "    vn = []\n",
    "    cap = []\n",
    "    df = pd.DataFrame();\n",
    "    with open(fname) as f:\n",
    "        for line in f:\n",
    "            pairs = line.split()\n",
    "            vn.append(pairs[0])\n",
    "            cap.append(pairs[1])\n",
    "        df['video']=vn\n",
    "        df['caption']=cap\n",
    "    return df"
   ]
  },
  {
   "cell_type": "markdown",
   "metadata": {},
   "source": [
    "**Function used to read the C3D feature**"
   ]
  },
  {
   "cell_type": "code",
   "execution_count": 12,
   "metadata": {},
   "outputs": [],
   "source": [
    "def read_C3D(fname):\n",
    "    with open(fname) as f:\n",
    "        for line in f:\n",
    "            C3D =[float(item) for item in line.split()]\n",
    "    return C3D"
   ]
  },
  {
   "cell_type": "markdown",
   "metadata": {},
   "source": [
    "**Function to calculate Spearmann's Correlation Coefficient**"
   ]
  },
  {
   "cell_type": "code",
   "execution_count": 13,
   "metadata": {},
   "outputs": [],
   "source": [
    "def Get_score(Y_pred,Y_true):\n",
    "    Y_pred = np.squeeze(Y_pred)\n",
    "    Y_true = np.squeeze(Y_true)\n",
    "    if Y_pred.shape != Y_true.shape:\n",
    "        print('Input shapes don\\'t match!')\n",
    "    else:\n",
    "        if len(Y_pred.shape) == 1:\n",
    "            Res = pd.DataFrame({'Y_true':Y_true,'Y_pred':Y_pred})\n",
    "            score_mat = Res[['Y_true','Y_pred']].corr(method='spearman',min_periods=1)\n",
    "            print('The Spearman\\'s correlation coefficient is: %.3f' % score_mat.iloc[1][0])\n",
    "        else:\n",
    "            for ii in range(Y_pred.shape[1]):\n",
    "                Get_score(Y_pred[:,ii],Y_true[:,ii])"
   ]
  },
  {
   "cell_type": "markdown",
   "metadata": {},
   "source": [
    "**Reading the caption feature using caption_read function, Loading the prediction labels (memorability score) in pandas dataframe, Also reading the C3D feature files**"
   ]
  },
  {
   "cell_type": "code",
   "execution_count": 14,
   "metadata": {},
   "outputs": [],
   "source": [
    "caption_file_train = 'Captions/Train/dev-set_video-captions.txt'\n",
    "caption_file_test = 'Captions/Test/test-set-1_video-captions.txt'\n",
    "\n",
    "labels_test = pd.read_csv('Ground_truth/Test/ground_truth_template.csv')\n",
    "labels = pd.read_csv('Ground_truth/Train/ground-truth.csv')\n",
    "\n",
    "C3D_train = 'C3D/Train/'\n",
    "C3D_test = 'C3D/test'"
   ]
  },
  {
   "cell_type": "code",
   "execution_count": 15,
   "metadata": {},
   "outputs": [],
   "source": [
    "cap_train = caption_read(caption_file_train)\n",
    "cap_test = caption_read(caption_file_test)"
   ]
  },
  {
   "cell_type": "markdown",
   "metadata": {},
   "source": [
    "**Lets look at the caption trainset features**"
   ]
  },
  {
   "cell_type": "code",
   "execution_count": 16,
   "metadata": {},
   "outputs": [
    {
     "data": {
      "text/html": [
       "<div>\n",
       "<style scoped>\n",
       "    .dataframe tbody tr th:only-of-type {\n",
       "        vertical-align: middle;\n",
       "    }\n",
       "\n",
       "    .dataframe tbody tr th {\n",
       "        vertical-align: top;\n",
       "    }\n",
       "\n",
       "    .dataframe thead th {\n",
       "        text-align: right;\n",
       "    }\n",
       "</style>\n",
       "<table border=\"1\" class=\"dataframe\">\n",
       "  <thead>\n",
       "    <tr style=\"text-align: right;\">\n",
       "      <th></th>\n",
       "      <th>video</th>\n",
       "      <th>caption</th>\n",
       "    </tr>\n",
       "  </thead>\n",
       "  <tbody>\n",
       "    <tr>\n",
       "      <th>0</th>\n",
       "      <td>video3.webm</td>\n",
       "      <td>blonde-woman-is-massaged-tilt-down</td>\n",
       "    </tr>\n",
       "    <tr>\n",
       "      <th>1</th>\n",
       "      <td>video4.webm</td>\n",
       "      <td>roulette-table-spinning-with-ball-in-closeup-shot</td>\n",
       "    </tr>\n",
       "    <tr>\n",
       "      <th>2</th>\n",
       "      <td>video6.webm</td>\n",
       "      <td>khr-gangsters</td>\n",
       "    </tr>\n",
       "    <tr>\n",
       "      <th>3</th>\n",
       "      <td>video8.webm</td>\n",
       "      <td>medical-helicopter-hovers-at-airport</td>\n",
       "    </tr>\n",
       "    <tr>\n",
       "      <th>4</th>\n",
       "      <td>video10.webm</td>\n",
       "      <td>couple-relaxing-on-picnic-crane-shot</td>\n",
       "    </tr>\n",
       "  </tbody>\n",
       "</table>\n",
       "</div>"
      ],
      "text/plain": [
       "          video                                            caption\n",
       "0   video3.webm                 blonde-woman-is-massaged-tilt-down\n",
       "1   video4.webm  roulette-table-spinning-with-ball-in-closeup-shot\n",
       "2   video6.webm                                      khr-gangsters\n",
       "3   video8.webm               medical-helicopter-hovers-at-airport\n",
       "4  video10.webm               couple-relaxing-on-picnic-crane-shot"
      ]
     },
     "execution_count": 16,
     "metadata": {},
     "output_type": "execute_result"
    }
   ],
   "source": [
    "cap_train.head()"
   ]
  },
  {
   "cell_type": "markdown",
   "metadata": {},
   "source": [
    "**Now, Removing the Punctuation marks and making it lower case for the Caption feature (train and test)**"
   ]
  },
  {
   "cell_type": "code",
   "execution_count": 17,
   "metadata": {},
   "outputs": [],
   "source": [
    "def Punctuation(cap_train): \n",
    "  for i, x in enumerate (cap_train['caption']):\n",
    "      text = ''.join([c if c not in punctuation else ' ' for c in x]).lower()\n",
    "      cap_train.loc[i,'caption'] = text \n",
    "\n",
    "Punctuation(cap_train)\n",
    "Punctuation(cap_test) "
   ]
  },
  {
   "cell_type": "markdown",
   "metadata": {},
   "source": [
    "**Inorder to have a cleaned and preprocessed caption text files we are going to remove the irrelavant words called stop words and we are also making it lemmatized. Lemmatization makes the words to its root form using Wordnet corpus**"
   ]
  },
  {
   "cell_type": "code",
   "execution_count": 18,
   "metadata": {},
   "outputs": [],
   "source": [
    "stop_words = set(stopwords.words('english')) \n",
    "cap_train['caption'] = cap_train['caption'].apply(lambda x: ' '.join([word for word in x.split() if word not in (stop_words)]))\n",
    "cap_test['caption'] = cap_test['caption'].apply(lambda x: ' '.join([word for word in x.split() if word not in (stop_words)]))"
   ]
  },
  {
   "cell_type": "code",
   "execution_count": 19,
   "metadata": {},
   "outputs": [],
   "source": [
    "lemmatizer = WordNetLemmatizer()\n",
    "cap_train['caption'] = cap_train['caption'].apply(lambda x: ' '.join([lemmatizer.lemmatize(word, 'v') for word in x.split()]))\n",
    "cap_test['caption'] = cap_test['caption'].apply(lambda x: ' '.join([lemmatizer.lemmatize(word, 'v') for word in x.split()]))"
   ]
  },
  {
   "cell_type": "markdown",
   "metadata": {},
   "source": [
    "**Now, Let us have a look at the cleaned caption feature for training and testing**"
   ]
  },
  {
   "cell_type": "code",
   "execution_count": 20,
   "metadata": {},
   "outputs": [
    {
     "data": {
      "text/html": [
       "<div>\n",
       "<style scoped>\n",
       "    .dataframe tbody tr th:only-of-type {\n",
       "        vertical-align: middle;\n",
       "    }\n",
       "\n",
       "    .dataframe tbody tr th {\n",
       "        vertical-align: top;\n",
       "    }\n",
       "\n",
       "    .dataframe thead th {\n",
       "        text-align: right;\n",
       "    }\n",
       "</style>\n",
       "<table border=\"1\" class=\"dataframe\">\n",
       "  <thead>\n",
       "    <tr style=\"text-align: right;\">\n",
       "      <th></th>\n",
       "      <th>video</th>\n",
       "      <th>caption</th>\n",
       "    </tr>\n",
       "  </thead>\n",
       "  <tbody>\n",
       "    <tr>\n",
       "      <th>0</th>\n",
       "      <td>video3.webm</td>\n",
       "      <td>blonde woman massage tilt</td>\n",
       "    </tr>\n",
       "    <tr>\n",
       "      <th>1</th>\n",
       "      <td>video4.webm</td>\n",
       "      <td>roulette table spin ball closeup shoot</td>\n",
       "    </tr>\n",
       "    <tr>\n",
       "      <th>2</th>\n",
       "      <td>video6.webm</td>\n",
       "      <td>khr gangsters</td>\n",
       "    </tr>\n",
       "    <tr>\n",
       "      <th>3</th>\n",
       "      <td>video8.webm</td>\n",
       "      <td>medical helicopter hover airport</td>\n",
       "    </tr>\n",
       "    <tr>\n",
       "      <th>4</th>\n",
       "      <td>video10.webm</td>\n",
       "      <td>couple relax picnic crane shoot</td>\n",
       "    </tr>\n",
       "  </tbody>\n",
       "</table>\n",
       "</div>"
      ],
      "text/plain": [
       "          video                                 caption\n",
       "0   video3.webm               blonde woman massage tilt\n",
       "1   video4.webm  roulette table spin ball closeup shoot\n",
       "2   video6.webm                           khr gangsters\n",
       "3   video8.webm        medical helicopter hover airport\n",
       "4  video10.webm         couple relax picnic crane shoot"
      ]
     },
     "execution_count": 20,
     "metadata": {},
     "output_type": "execute_result"
    }
   ],
   "source": [
    "cap_train.head()"
   ]
  },
  {
   "cell_type": "code",
   "execution_count": 21,
   "metadata": {},
   "outputs": [
    {
     "data": {
      "text/html": [
       "<div>\n",
       "<style scoped>\n",
       "    .dataframe tbody tr th:only-of-type {\n",
       "        vertical-align: middle;\n",
       "    }\n",
       "\n",
       "    .dataframe tbody tr th {\n",
       "        vertical-align: top;\n",
       "    }\n",
       "\n",
       "    .dataframe thead th {\n",
       "        text-align: right;\n",
       "    }\n",
       "</style>\n",
       "<table border=\"1\" class=\"dataframe\">\n",
       "  <thead>\n",
       "    <tr style=\"text-align: right;\">\n",
       "      <th></th>\n",
       "      <th>video</th>\n",
       "      <th>caption</th>\n",
       "    </tr>\n",
       "  </thead>\n",
       "  <tbody>\n",
       "    <tr>\n",
       "      <th>0</th>\n",
       "      <td>video7494.webm</td>\n",
       "      <td>green jeep struggle drive huge rock</td>\n",
       "    </tr>\n",
       "    <tr>\n",
       "      <th>1</th>\n",
       "      <td>video7495.webm</td>\n",
       "      <td>hike woman tourist walk forward mountains suns...</td>\n",
       "    </tr>\n",
       "    <tr>\n",
       "      <th>2</th>\n",
       "      <td>video7496.webm</td>\n",
       "      <td>close african american doctor hand use sphygmo...</td>\n",
       "    </tr>\n",
       "    <tr>\n",
       "      <th>3</th>\n",
       "      <td>video7497.webm</td>\n",
       "      <td>slow motion man use treadmill gym regular phys...</td>\n",
       "    </tr>\n",
       "    <tr>\n",
       "      <th>4</th>\n",
       "      <td>video7498.webm</td>\n",
       "      <td>slow motion photographer national park</td>\n",
       "    </tr>\n",
       "  </tbody>\n",
       "</table>\n",
       "</div>"
      ],
      "text/plain": [
       "            video                                            caption\n",
       "0  video7494.webm                green jeep struggle drive huge rock\n",
       "1  video7495.webm  hike woman tourist walk forward mountains suns...\n",
       "2  video7496.webm  close african american doctor hand use sphygmo...\n",
       "3  video7497.webm  slow motion man use treadmill gym regular phys...\n",
       "4  video7498.webm             slow motion photographer national park"
      ]
     },
     "execution_count": 21,
     "metadata": {},
     "output_type": "execute_result"
    }
   ],
   "source": [
    "cap_test.head()"
   ]
  },
  {
   "cell_type": "markdown",
   "metadata": {},
   "source": [
    "**Let us have a look at the ground truth values of short term and long term memorability score**"
   ]
  },
  {
   "cell_type": "code",
   "execution_count": 22,
   "metadata": {},
   "outputs": [
    {
     "data": {
      "text/html": [
       "<div>\n",
       "<style scoped>\n",
       "    .dataframe tbody tr th:only-of-type {\n",
       "        vertical-align: middle;\n",
       "    }\n",
       "\n",
       "    .dataframe tbody tr th {\n",
       "        vertical-align: top;\n",
       "    }\n",
       "\n",
       "    .dataframe thead th {\n",
       "        text-align: right;\n",
       "    }\n",
       "</style>\n",
       "<table border=\"1\" class=\"dataframe\">\n",
       "  <thead>\n",
       "    <tr style=\"text-align: right;\">\n",
       "      <th></th>\n",
       "      <th>video</th>\n",
       "      <th>short-term_memorability</th>\n",
       "      <th>nb_short-term_annotations</th>\n",
       "      <th>long-term_memorability</th>\n",
       "      <th>nb_long-term_annotations</th>\n",
       "    </tr>\n",
       "  </thead>\n",
       "  <tbody>\n",
       "    <tr>\n",
       "      <th>0</th>\n",
       "      <td>video3.webm</td>\n",
       "      <td>0.924</td>\n",
       "      <td>34</td>\n",
       "      <td>0.846</td>\n",
       "      <td>13</td>\n",
       "    </tr>\n",
       "    <tr>\n",
       "      <th>1</th>\n",
       "      <td>video4.webm</td>\n",
       "      <td>0.923</td>\n",
       "      <td>33</td>\n",
       "      <td>0.667</td>\n",
       "      <td>12</td>\n",
       "    </tr>\n",
       "    <tr>\n",
       "      <th>2</th>\n",
       "      <td>video6.webm</td>\n",
       "      <td>0.863</td>\n",
       "      <td>33</td>\n",
       "      <td>0.700</td>\n",
       "      <td>10</td>\n",
       "    </tr>\n",
       "    <tr>\n",
       "      <th>3</th>\n",
       "      <td>video8.webm</td>\n",
       "      <td>0.922</td>\n",
       "      <td>33</td>\n",
       "      <td>0.818</td>\n",
       "      <td>11</td>\n",
       "    </tr>\n",
       "    <tr>\n",
       "      <th>4</th>\n",
       "      <td>video10.webm</td>\n",
       "      <td>0.950</td>\n",
       "      <td>34</td>\n",
       "      <td>0.900</td>\n",
       "      <td>10</td>\n",
       "    </tr>\n",
       "  </tbody>\n",
       "</table>\n",
       "</div>"
      ],
      "text/plain": [
       "          video  short-term_memorability  nb_short-term_annotations  \\\n",
       "0   video3.webm                    0.924                         34   \n",
       "1   video4.webm                    0.923                         33   \n",
       "2   video6.webm                    0.863                         33   \n",
       "3   video8.webm                    0.922                         33   \n",
       "4  video10.webm                    0.950                         34   \n",
       "\n",
       "   long-term_memorability  nb_long-term_annotations  \n",
       "0                   0.846                        13  \n",
       "1                   0.667                        12  \n",
       "2                   0.700                        10  \n",
       "3                   0.818                        11  \n",
       "4                   0.900                        10  "
      ]
     },
     "execution_count": 22,
     "metadata": {},
     "output_type": "execute_result"
    }
   ],
   "source": [
    "labels.head()"
   ]
  },
  {
   "cell_type": "markdown",
   "metadata": {},
   "source": [
    "**Merging the Captions with the video names and memorability scores**"
   ]
  },
  {
   "cell_type": "code",
   "execution_count": 23,
   "metadata": {},
   "outputs": [
    {
     "data": {
      "text/html": [
       "<div>\n",
       "<style scoped>\n",
       "    .dataframe tbody tr th:only-of-type {\n",
       "        vertical-align: middle;\n",
       "    }\n",
       "\n",
       "    .dataframe tbody tr th {\n",
       "        vertical-align: top;\n",
       "    }\n",
       "\n",
       "    .dataframe thead th {\n",
       "        text-align: right;\n",
       "    }\n",
       "</style>\n",
       "<table border=\"1\" class=\"dataframe\">\n",
       "  <thead>\n",
       "    <tr style=\"text-align: right;\">\n",
       "      <th></th>\n",
       "      <th>video</th>\n",
       "      <th>caption</th>\n",
       "      <th>short-term_memorability</th>\n",
       "      <th>long-term_memorability</th>\n",
       "    </tr>\n",
       "  </thead>\n",
       "  <tbody>\n",
       "    <tr>\n",
       "      <th>0</th>\n",
       "      <td>video3.webm</td>\n",
       "      <td>blonde woman massage tilt</td>\n",
       "      <td>0.924</td>\n",
       "      <td>0.846</td>\n",
       "    </tr>\n",
       "    <tr>\n",
       "      <th>1</th>\n",
       "      <td>video4.webm</td>\n",
       "      <td>roulette table spin ball closeup shoot</td>\n",
       "      <td>0.923</td>\n",
       "      <td>0.667</td>\n",
       "    </tr>\n",
       "    <tr>\n",
       "      <th>2</th>\n",
       "      <td>video6.webm</td>\n",
       "      <td>khr gangsters</td>\n",
       "      <td>0.863</td>\n",
       "      <td>0.700</td>\n",
       "    </tr>\n",
       "    <tr>\n",
       "      <th>3</th>\n",
       "      <td>video8.webm</td>\n",
       "      <td>medical helicopter hover airport</td>\n",
       "      <td>0.922</td>\n",
       "      <td>0.818</td>\n",
       "    </tr>\n",
       "    <tr>\n",
       "      <th>4</th>\n",
       "      <td>video10.webm</td>\n",
       "      <td>couple relax picnic crane shoot</td>\n",
       "      <td>0.950</td>\n",
       "      <td>0.900</td>\n",
       "    </tr>\n",
       "  </tbody>\n",
       "</table>\n",
       "</div>"
      ],
      "text/plain": [
       "          video                                 caption  \\\n",
       "0   video3.webm               blonde woman massage tilt   \n",
       "1   video4.webm  roulette table spin ball closeup shoot   \n",
       "2   video6.webm                           khr gangsters   \n",
       "3   video8.webm        medical helicopter hover airport   \n",
       "4  video10.webm         couple relax picnic crane shoot   \n",
       "\n",
       "   short-term_memorability  long-term_memorability  \n",
       "0                    0.924                   0.846  \n",
       "1                    0.923                   0.667  \n",
       "2                    0.863                   0.700  \n",
       "3                    0.922                   0.818  \n",
       "4                    0.950                   0.900  "
      ]
     },
     "execution_count": 23,
     "metadata": {},
     "output_type": "execute_result"
    }
   ],
   "source": [
    "cap_train = pd.merge(cap_train,\n",
    "                 labels[['video', 'short-term_memorability', 'long-term_memorability']],\n",
    "                 on='video')\n",
    "cap_train.head()"
   ]
  },
  {
   "cell_type": "code",
   "execution_count": 24,
   "metadata": {},
   "outputs": [
    {
     "name": "stdout",
     "output_type": "stream",
     "text": [
      "Ground truth video memorability prediction file on train (6000, 5)\n",
      "Ground truth video memorability prediction file on test (2000, 5)\n",
      "Caption feature file on train (6000, 4)\n",
      "Caption feature file on test (2000, 2)\n"
     ]
    }
   ],
   "source": [
    "print('Ground truth video memorability prediction file on train',labels.shape)\n",
    "print('Ground truth video memorability prediction file on test',labels_test.shape)\n",
    "print('Caption feature file on train', cap_train.shape)\n",
    "print('Caption feature file on test', cap_test.shape)"
   ]
  },
  {
   "cell_type": "markdown",
   "metadata": {},
   "source": [
    "**I am using TFIDF vectorizer to convert the collection of raw caption features into a matrix of TFIDF features. Here I am passing use_idf = True because I want to assign low weights to the words that occur very frequently and scale up the weights for rare words.**"
   ]
  },
  {
   "cell_type": "markdown",
   "metadata": {},
   "source": [
    "**I am also passing smooth_idf = True because if a word which is not fitted to the train data but occurs in the test dataset, smooth_idf allows to successfully process it.**"
   ]
  },
  {
   "cell_type": "markdown",
   "metadata": {},
   "source": [
    "**max_features is used to retrieve the top 3000 tfidf feature vectors for capturing better contextual information**"
   ]
  },
  {
   "cell_type": "code",
   "execution_count": 25,
   "metadata": {},
   "outputs": [],
   "source": [
    "from sklearn.feature_extraction.text import TfidfVectorizer\n",
    "vectorizer_trainset = TfidfVectorizer(use_idf = True, smooth_idf = True, max_features = 3000)"
   ]
  },
  {
   "cell_type": "code",
   "execution_count": 26,
   "metadata": {},
   "outputs": [],
   "source": [
    "X_trainset = vectorizer_trainset.fit_transform(cap_train['caption'])\n",
    "X_testset =vectorizer_trainset.transform(cap_test['caption'])"
   ]
  },
  {
   "cell_type": "code",
   "execution_count": 27,
   "metadata": {},
   "outputs": [
    {
     "name": "stdout",
     "output_type": "stream",
     "text": [
      "Caption features of training datset (6000, 3000)\n",
      "Caption features of testing dataset (2000, 3000)\n"
     ]
    }
   ],
   "source": [
    "feature_names = vectorizer_trainset.get_feature_names()\n",
    "X_trainset = X_trainset.toarray() # Train Caption features converted to an array\n",
    "X_testset = X_testset.toarray() # Test caption features converted to an array\n",
    "print('Caption features of training datset', X_trainset.shape)\n",
    "print('Caption features of testing dataset', X_testset.shape)"
   ]
  },
  {
   "cell_type": "markdown",
   "metadata": {},
   "source": [
    "**Now our development vocabulary size and testing vocabulary size is 3000**"
   ]
  },
  {
   "cell_type": "code",
   "execution_count": 28,
   "metadata": {},
   "outputs": [
    {
     "data": {
      "text/html": [
       "<div>\n",
       "<style scoped>\n",
       "    .dataframe tbody tr th:only-of-type {\n",
       "        vertical-align: middle;\n",
       "    }\n",
       "\n",
       "    .dataframe tbody tr th {\n",
       "        vertical-align: top;\n",
       "    }\n",
       "\n",
       "    .dataframe thead th {\n",
       "        text-align: right;\n",
       "    }\n",
       "</style>\n",
       "<table border=\"1\" class=\"dataframe\">\n",
       "  <thead>\n",
       "    <tr style=\"text-align: right;\">\n",
       "      <th></th>\n",
       "      <th>ab</th>\n",
       "      <th>accident</th>\n",
       "      <th>accidently</th>\n",
       "      <th>across</th>\n",
       "      <th>active</th>\n",
       "      <th>activity</th>\n",
       "      <th>actor</th>\n",
       "      <th>acupuncture</th>\n",
       "      <th>add</th>\n",
       "      <th>addict</th>\n",
       "      <th>...</th>\n",
       "      <th>yukon</th>\n",
       "      <th>zealand</th>\n",
       "      <th>zebra</th>\n",
       "      <th>zebras</th>\n",
       "      <th>zero</th>\n",
       "      <th>zip</th>\n",
       "      <th>zipper</th>\n",
       "      <th>zone</th>\n",
       "      <th>zoo</th>\n",
       "      <th>zoom</th>\n",
       "    </tr>\n",
       "  </thead>\n",
       "  <tbody>\n",
       "    <tr>\n",
       "      <th>5995</th>\n",
       "      <td>0.0</td>\n",
       "      <td>0.0</td>\n",
       "      <td>0.0</td>\n",
       "      <td>0.0</td>\n",
       "      <td>0.0</td>\n",
       "      <td>0.0</td>\n",
       "      <td>0.0</td>\n",
       "      <td>0.0</td>\n",
       "      <td>0.0</td>\n",
       "      <td>0.0</td>\n",
       "      <td>...</td>\n",
       "      <td>0.0</td>\n",
       "      <td>0.0</td>\n",
       "      <td>0.0</td>\n",
       "      <td>0.0</td>\n",
       "      <td>0.0</td>\n",
       "      <td>0.0</td>\n",
       "      <td>0.0</td>\n",
       "      <td>0.0</td>\n",
       "      <td>0.0</td>\n",
       "      <td>0.0</td>\n",
       "    </tr>\n",
       "    <tr>\n",
       "      <th>5996</th>\n",
       "      <td>0.0</td>\n",
       "      <td>0.0</td>\n",
       "      <td>0.0</td>\n",
       "      <td>0.0</td>\n",
       "      <td>0.0</td>\n",
       "      <td>0.0</td>\n",
       "      <td>0.0</td>\n",
       "      <td>0.0</td>\n",
       "      <td>0.0</td>\n",
       "      <td>0.0</td>\n",
       "      <td>...</td>\n",
       "      <td>0.0</td>\n",
       "      <td>0.0</td>\n",
       "      <td>0.0</td>\n",
       "      <td>0.0</td>\n",
       "      <td>0.0</td>\n",
       "      <td>0.0</td>\n",
       "      <td>0.0</td>\n",
       "      <td>0.0</td>\n",
       "      <td>0.0</td>\n",
       "      <td>0.0</td>\n",
       "    </tr>\n",
       "    <tr>\n",
       "      <th>5997</th>\n",
       "      <td>0.0</td>\n",
       "      <td>0.0</td>\n",
       "      <td>0.0</td>\n",
       "      <td>0.0</td>\n",
       "      <td>0.0</td>\n",
       "      <td>0.0</td>\n",
       "      <td>0.0</td>\n",
       "      <td>0.0</td>\n",
       "      <td>0.0</td>\n",
       "      <td>0.0</td>\n",
       "      <td>...</td>\n",
       "      <td>0.0</td>\n",
       "      <td>0.0</td>\n",
       "      <td>0.0</td>\n",
       "      <td>0.0</td>\n",
       "      <td>0.0</td>\n",
       "      <td>0.0</td>\n",
       "      <td>0.0</td>\n",
       "      <td>0.0</td>\n",
       "      <td>0.0</td>\n",
       "      <td>0.0</td>\n",
       "    </tr>\n",
       "    <tr>\n",
       "      <th>5998</th>\n",
       "      <td>0.0</td>\n",
       "      <td>0.0</td>\n",
       "      <td>0.0</td>\n",
       "      <td>0.0</td>\n",
       "      <td>0.0</td>\n",
       "      <td>0.0</td>\n",
       "      <td>0.0</td>\n",
       "      <td>0.0</td>\n",
       "      <td>0.0</td>\n",
       "      <td>0.0</td>\n",
       "      <td>...</td>\n",
       "      <td>0.0</td>\n",
       "      <td>0.0</td>\n",
       "      <td>0.0</td>\n",
       "      <td>0.0</td>\n",
       "      <td>0.0</td>\n",
       "      <td>0.0</td>\n",
       "      <td>0.0</td>\n",
       "      <td>0.0</td>\n",
       "      <td>0.0</td>\n",
       "      <td>0.0</td>\n",
       "    </tr>\n",
       "    <tr>\n",
       "      <th>5999</th>\n",
       "      <td>0.0</td>\n",
       "      <td>0.0</td>\n",
       "      <td>0.0</td>\n",
       "      <td>0.0</td>\n",
       "      <td>0.0</td>\n",
       "      <td>0.0</td>\n",
       "      <td>0.0</td>\n",
       "      <td>0.0</td>\n",
       "      <td>0.0</td>\n",
       "      <td>0.0</td>\n",
       "      <td>...</td>\n",
       "      <td>0.0</td>\n",
       "      <td>0.0</td>\n",
       "      <td>0.0</td>\n",
       "      <td>0.0</td>\n",
       "      <td>0.0</td>\n",
       "      <td>0.0</td>\n",
       "      <td>0.0</td>\n",
       "      <td>0.0</td>\n",
       "      <td>0.0</td>\n",
       "      <td>0.0</td>\n",
       "    </tr>\n",
       "  </tbody>\n",
       "</table>\n",
       "<p>5 rows × 3000 columns</p>\n",
       "</div>"
      ],
      "text/plain": [
       "       ab  accident  accidently  across  active  activity  actor  acupuncture  \\\n",
       "5995  0.0       0.0         0.0     0.0     0.0       0.0    0.0          0.0   \n",
       "5996  0.0       0.0         0.0     0.0     0.0       0.0    0.0          0.0   \n",
       "5997  0.0       0.0         0.0     0.0     0.0       0.0    0.0          0.0   \n",
       "5998  0.0       0.0         0.0     0.0     0.0       0.0    0.0          0.0   \n",
       "5999  0.0       0.0         0.0     0.0     0.0       0.0    0.0          0.0   \n",
       "\n",
       "      add  addict  ...  yukon  zealand  zebra  zebras  zero  zip  zipper  \\\n",
       "5995  0.0     0.0  ...    0.0      0.0    0.0     0.0   0.0  0.0     0.0   \n",
       "5996  0.0     0.0  ...    0.0      0.0    0.0     0.0   0.0  0.0     0.0   \n",
       "5997  0.0     0.0  ...    0.0      0.0    0.0     0.0   0.0  0.0     0.0   \n",
       "5998  0.0     0.0  ...    0.0      0.0    0.0     0.0   0.0  0.0     0.0   \n",
       "5999  0.0     0.0  ...    0.0      0.0    0.0     0.0   0.0  0.0     0.0   \n",
       "\n",
       "      zone  zoo  zoom  \n",
       "5995   0.0  0.0   0.0  \n",
       "5996   0.0  0.0   0.0  \n",
       "5997   0.0  0.0   0.0  \n",
       "5998   0.0  0.0   0.0  \n",
       "5999   0.0  0.0   0.0  \n",
       "\n",
       "[5 rows x 3000 columns]"
      ]
     },
     "execution_count": 28,
     "metadata": {},
     "output_type": "execute_result"
    }
   ],
   "source": [
    "Caption_features = pd.DataFrame(X_trainset, columns=feature_names)\n",
    "Caption_features.tail()"
   ]
  },
  {
   "cell_type": "markdown",
   "metadata": {},
   "source": [
    "**Loading the C3D features with their respective video file names (Training set)**"
   ]
  },
  {
   "cell_type": "code",
   "execution_count": 29,
   "metadata": {},
   "outputs": [],
   "source": [
    "list_c3d = [] \n",
    "list_video = [] \n",
    "path = 'C3D/Train/*.txt'\n",
    "for filename in glob.glob('C3D/Train/*.txt'):\n",
    "    s= read_C3D(filename)\n",
    "    list_c3d.append(s)\n",
    "    list_video.append(((filename.split('/')[-1]).split('.')[0])+ '.webm') "
   ]
  },
  {
   "cell_type": "code",
   "execution_count": 30,
   "metadata": {},
   "outputs": [
    {
     "name": "stdout",
     "output_type": "stream",
     "text": [
      "Number of C3D features are 101\n",
      "Training data of C3D features 6000\n"
     ]
    }
   ],
   "source": [
    "print('Number of C3D features are', len(list_c3d[0]))\n",
    "print('Training data of C3D features', len(list_video))"
   ]
  },
  {
   "cell_type": "markdown",
   "metadata": {},
   "source": [
    "**Making a array dataframe of C3D features where the list_c3d is the list of the 101 C3D dimensions and list_video is a list for the 6000 training video records**"
   ]
  },
  {
   "cell_type": "code",
   "execution_count": 31,
   "metadata": {},
   "outputs": [
    {
     "data": {
      "text/html": [
       "<div>\n",
       "<style scoped>\n",
       "    .dataframe tbody tr th:only-of-type {\n",
       "        vertical-align: middle;\n",
       "    }\n",
       "\n",
       "    .dataframe tbody tr th {\n",
       "        vertical-align: top;\n",
       "    }\n",
       "\n",
       "    .dataframe thead th {\n",
       "        text-align: right;\n",
       "    }\n",
       "</style>\n",
       "<table border=\"1\" class=\"dataframe\">\n",
       "  <thead>\n",
       "    <tr style=\"text-align: right;\">\n",
       "      <th></th>\n",
       "      <th>0</th>\n",
       "      <th>1</th>\n",
       "      <th>2</th>\n",
       "      <th>3</th>\n",
       "      <th>4</th>\n",
       "      <th>5</th>\n",
       "      <th>6</th>\n",
       "      <th>7</th>\n",
       "      <th>8</th>\n",
       "      <th>9</th>\n",
       "      <th>...</th>\n",
       "      <th>92</th>\n",
       "      <th>93</th>\n",
       "      <th>94</th>\n",
       "      <th>95</th>\n",
       "      <th>96</th>\n",
       "      <th>97</th>\n",
       "      <th>98</th>\n",
       "      <th>99</th>\n",
       "      <th>100</th>\n",
       "      <th>video</th>\n",
       "    </tr>\n",
       "  </thead>\n",
       "  <tbody>\n",
       "    <tr>\n",
       "      <th>5995</th>\n",
       "      <td>0.000213</td>\n",
       "      <td>0.001159</td>\n",
       "      <td>0.008674</td>\n",
       "      <td>0.000032</td>\n",
       "      <td>0.000030</td>\n",
       "      <td>0.000026</td>\n",
       "      <td>0.000060</td>\n",
       "      <td>2.684500e-04</td>\n",
       "      <td>0.000036</td>\n",
       "      <td>0.000011</td>\n",
       "      <td>...</td>\n",
       "      <td>1.898800e-04</td>\n",
       "      <td>0.000109</td>\n",
       "      <td>0.000135</td>\n",
       "      <td>0.000174</td>\n",
       "      <td>1.320000e-05</td>\n",
       "      <td>0.006762</td>\n",
       "      <td>0.000008</td>\n",
       "      <td>0.002438</td>\n",
       "      <td>0.004736</td>\n",
       "      <td>video2881.webm</td>\n",
       "    </tr>\n",
       "    <tr>\n",
       "      <th>5996</th>\n",
       "      <td>0.001955</td>\n",
       "      <td>0.003218</td>\n",
       "      <td>0.000135</td>\n",
       "      <td>0.000041</td>\n",
       "      <td>0.000002</td>\n",
       "      <td>0.000019</td>\n",
       "      <td>0.000135</td>\n",
       "      <td>2.454000e-05</td>\n",
       "      <td>0.000051</td>\n",
       "      <td>0.000412</td>\n",
       "      <td>...</td>\n",
       "      <td>3.770000e-06</td>\n",
       "      <td>0.000001</td>\n",
       "      <td>0.020093</td>\n",
       "      <td>0.000029</td>\n",
       "      <td>7.600000e-07</td>\n",
       "      <td>0.000060</td>\n",
       "      <td>0.014110</td>\n",
       "      <td>0.002027</td>\n",
       "      <td>0.020071</td>\n",
       "      <td>video1136.webm</td>\n",
       "    </tr>\n",
       "    <tr>\n",
       "      <th>5997</th>\n",
       "      <td>0.043981</td>\n",
       "      <td>0.000058</td>\n",
       "      <td>0.000507</td>\n",
       "      <td>0.000006</td>\n",
       "      <td>0.000005</td>\n",
       "      <td>0.000004</td>\n",
       "      <td>0.000042</td>\n",
       "      <td>3.000000e-07</td>\n",
       "      <td>0.000032</td>\n",
       "      <td>0.001402</td>\n",
       "      <td>...</td>\n",
       "      <td>5.400000e-07</td>\n",
       "      <td>0.000001</td>\n",
       "      <td>0.000611</td>\n",
       "      <td>0.000007</td>\n",
       "      <td>1.030000e-06</td>\n",
       "      <td>0.000002</td>\n",
       "      <td>0.000460</td>\n",
       "      <td>0.000088</td>\n",
       "      <td>0.000872</td>\n",
       "      <td>video6105.webm</td>\n",
       "    </tr>\n",
       "    <tr>\n",
       "      <th>5998</th>\n",
       "      <td>0.007485</td>\n",
       "      <td>0.021147</td>\n",
       "      <td>0.013090</td>\n",
       "      <td>0.000002</td>\n",
       "      <td>0.000002</td>\n",
       "      <td>0.000003</td>\n",
       "      <td>0.000228</td>\n",
       "      <td>3.873000e-05</td>\n",
       "      <td>0.000006</td>\n",
       "      <td>0.000023</td>\n",
       "      <td>...</td>\n",
       "      <td>7.860000e-06</td>\n",
       "      <td>0.000027</td>\n",
       "      <td>0.000170</td>\n",
       "      <td>0.000004</td>\n",
       "      <td>1.600000e-07</td>\n",
       "      <td>0.000493</td>\n",
       "      <td>0.000299</td>\n",
       "      <td>0.000257</td>\n",
       "      <td>0.001004</td>\n",
       "      <td>video827.webm</td>\n",
       "    </tr>\n",
       "    <tr>\n",
       "      <th>5999</th>\n",
       "      <td>0.005055</td>\n",
       "      <td>0.000065</td>\n",
       "      <td>0.001686</td>\n",
       "      <td>0.000152</td>\n",
       "      <td>0.000002</td>\n",
       "      <td>0.000067</td>\n",
       "      <td>0.000002</td>\n",
       "      <td>2.330000e-05</td>\n",
       "      <td>0.000058</td>\n",
       "      <td>0.000283</td>\n",
       "      <td>...</td>\n",
       "      <td>1.140000e-06</td>\n",
       "      <td>0.000009</td>\n",
       "      <td>0.003081</td>\n",
       "      <td>0.000014</td>\n",
       "      <td>7.920000e-06</td>\n",
       "      <td>0.000023</td>\n",
       "      <td>0.000003</td>\n",
       "      <td>0.000016</td>\n",
       "      <td>0.007559</td>\n",
       "      <td>video6830.webm</td>\n",
       "    </tr>\n",
       "  </tbody>\n",
       "</table>\n",
       "<p>5 rows × 102 columns</p>\n",
       "</div>"
      ],
      "text/plain": [
       "             0         1         2         3         4         5         6  \\\n",
       "5995  0.000213  0.001159  0.008674  0.000032  0.000030  0.000026  0.000060   \n",
       "5996  0.001955  0.003218  0.000135  0.000041  0.000002  0.000019  0.000135   \n",
       "5997  0.043981  0.000058  0.000507  0.000006  0.000005  0.000004  0.000042   \n",
       "5998  0.007485  0.021147  0.013090  0.000002  0.000002  0.000003  0.000228   \n",
       "5999  0.005055  0.000065  0.001686  0.000152  0.000002  0.000067  0.000002   \n",
       "\n",
       "                 7         8         9  ...            92        93        94  \\\n",
       "5995  2.684500e-04  0.000036  0.000011  ...  1.898800e-04  0.000109  0.000135   \n",
       "5996  2.454000e-05  0.000051  0.000412  ...  3.770000e-06  0.000001  0.020093   \n",
       "5997  3.000000e-07  0.000032  0.001402  ...  5.400000e-07  0.000001  0.000611   \n",
       "5998  3.873000e-05  0.000006  0.000023  ...  7.860000e-06  0.000027  0.000170   \n",
       "5999  2.330000e-05  0.000058  0.000283  ...  1.140000e-06  0.000009  0.003081   \n",
       "\n",
       "            95            96        97        98        99       100  \\\n",
       "5995  0.000174  1.320000e-05  0.006762  0.000008  0.002438  0.004736   \n",
       "5996  0.000029  7.600000e-07  0.000060  0.014110  0.002027  0.020071   \n",
       "5997  0.000007  1.030000e-06  0.000002  0.000460  0.000088  0.000872   \n",
       "5998  0.000004  1.600000e-07  0.000493  0.000299  0.000257  0.001004   \n",
       "5999  0.000014  7.920000e-06  0.000023  0.000003  0.000016  0.007559   \n",
       "\n",
       "               video  \n",
       "5995  video2881.webm  \n",
       "5996  video1136.webm  \n",
       "5997  video6105.webm  \n",
       "5998   video827.webm  \n",
       "5999  video6830.webm  \n",
       "\n",
       "[5 rows x 102 columns]"
      ]
     },
     "execution_count": 31,
     "metadata": {},
     "output_type": "execute_result"
    }
   ],
   "source": [
    "c3d_feature = pd.DataFrame(np.array(list_c3d).reshape(6000,101))\n",
    "c3d_feature[\"video\"] = list_video\n",
    "c3d_feature.tail()"
   ]
  },
  {
   "cell_type": "markdown",
   "metadata": {},
   "source": [
    "**Loading the C3D features for the testing set with their video file names**"
   ]
  },
  {
   "cell_type": "code",
   "execution_count": 32,
   "metadata": {},
   "outputs": [],
   "source": [
    "list_c3d_test = [] \n",
    "list_video_test = [] \n",
    "path = 'C3D/test/*.txt'\n",
    "for filename in glob.glob('C3D/test/*.txt'):\n",
    "    s= read_C3D(filename)\n",
    "    list_c3d_test.append(s)\n",
    "    list_video_test.append(((filename.split('/')[-1]).split('.')[0])+ '.webm') "
   ]
  },
  {
   "cell_type": "code",
   "execution_count": 33,
   "metadata": {},
   "outputs": [
    {
     "name": "stdout",
     "output_type": "stream",
     "text": [
      "Number of C3D features for testing set 101\n",
      "Training data of C3D features for testing set 2000\n"
     ]
    }
   ],
   "source": [
    "print('Number of C3D features for testing set', len(list_c3d_test[0]))\n",
    "print('Training data of C3D features for testing set', len(list_video_test))"
   ]
  },
  {
   "cell_type": "code",
   "execution_count": 34,
   "metadata": {},
   "outputs": [
    {
     "data": {
      "text/html": [
       "<div>\n",
       "<style scoped>\n",
       "    .dataframe tbody tr th:only-of-type {\n",
       "        vertical-align: middle;\n",
       "    }\n",
       "\n",
       "    .dataframe tbody tr th {\n",
       "        vertical-align: top;\n",
       "    }\n",
       "\n",
       "    .dataframe thead th {\n",
       "        text-align: right;\n",
       "    }\n",
       "</style>\n",
       "<table border=\"1\" class=\"dataframe\">\n",
       "  <thead>\n",
       "    <tr style=\"text-align: right;\">\n",
       "      <th></th>\n",
       "      <th>0</th>\n",
       "      <th>1</th>\n",
       "      <th>2</th>\n",
       "      <th>3</th>\n",
       "      <th>4</th>\n",
       "      <th>5</th>\n",
       "      <th>6</th>\n",
       "      <th>7</th>\n",
       "      <th>8</th>\n",
       "      <th>9</th>\n",
       "      <th>...</th>\n",
       "      <th>92</th>\n",
       "      <th>93</th>\n",
       "      <th>94</th>\n",
       "      <th>95</th>\n",
       "      <th>96</th>\n",
       "      <th>97</th>\n",
       "      <th>98</th>\n",
       "      <th>99</th>\n",
       "      <th>100</th>\n",
       "      <th>video</th>\n",
       "    </tr>\n",
       "  </thead>\n",
       "  <tbody>\n",
       "    <tr>\n",
       "      <th>1995</th>\n",
       "      <td>0.070512</td>\n",
       "      <td>0.308193</td>\n",
       "      <td>0.001473</td>\n",
       "      <td>3.556400e-04</td>\n",
       "      <td>1.748000e-05</td>\n",
       "      <td>4.778000e-05</td>\n",
       "      <td>0.000100</td>\n",
       "      <td>1.751530e-03</td>\n",
       "      <td>0.009924</td>\n",
       "      <td>0.000032</td>\n",
       "      <td>...</td>\n",
       "      <td>7.841000e-05</td>\n",
       "      <td>4.164000e-05</td>\n",
       "      <td>0.002845</td>\n",
       "      <td>1.544700e-04</td>\n",
       "      <td>3.843000e-05</td>\n",
       "      <td>0.000222</td>\n",
       "      <td>0.000528</td>\n",
       "      <td>0.007921</td>\n",
       "      <td>0.029476</td>\n",
       "      <td>video9699.webm</td>\n",
       "    </tr>\n",
       "    <tr>\n",
       "      <th>1996</th>\n",
       "      <td>0.000177</td>\n",
       "      <td>0.000232</td>\n",
       "      <td>0.065861</td>\n",
       "      <td>6.900000e-07</td>\n",
       "      <td>4.749000e-05</td>\n",
       "      <td>1.830400e-04</td>\n",
       "      <td>0.000041</td>\n",
       "      <td>1.570700e-04</td>\n",
       "      <td>0.000009</td>\n",
       "      <td>0.000126</td>\n",
       "      <td>...</td>\n",
       "      <td>3.870000e-06</td>\n",
       "      <td>3.497900e-04</td>\n",
       "      <td>0.000053</td>\n",
       "      <td>1.268500e-04</td>\n",
       "      <td>3.530000e-06</td>\n",
       "      <td>0.000286</td>\n",
       "      <td>0.000018</td>\n",
       "      <td>0.000037</td>\n",
       "      <td>0.157573</td>\n",
       "      <td>video9961.webm</td>\n",
       "    </tr>\n",
       "    <tr>\n",
       "      <th>1997</th>\n",
       "      <td>0.116897</td>\n",
       "      <td>0.004120</td>\n",
       "      <td>0.000082</td>\n",
       "      <td>1.384000e-05</td>\n",
       "      <td>1.500000e-07</td>\n",
       "      <td>1.600000e-07</td>\n",
       "      <td>0.000039</td>\n",
       "      <td>5.500000e-07</td>\n",
       "      <td>0.000003</td>\n",
       "      <td>0.000002</td>\n",
       "      <td>...</td>\n",
       "      <td>9.900000e-07</td>\n",
       "      <td>7.000000e-08</td>\n",
       "      <td>0.000804</td>\n",
       "      <td>6.600000e-07</td>\n",
       "      <td>6.000000e-08</td>\n",
       "      <td>0.000003</td>\n",
       "      <td>0.001728</td>\n",
       "      <td>0.003949</td>\n",
       "      <td>0.000078</td>\n",
       "      <td>video9826.webm</td>\n",
       "    </tr>\n",
       "    <tr>\n",
       "      <th>1998</th>\n",
       "      <td>0.209553</td>\n",
       "      <td>0.125281</td>\n",
       "      <td>0.001236</td>\n",
       "      <td>6.160000e-05</td>\n",
       "      <td>4.180000e-06</td>\n",
       "      <td>3.363000e-05</td>\n",
       "      <td>0.000406</td>\n",
       "      <td>1.374800e-04</td>\n",
       "      <td>0.000040</td>\n",
       "      <td>0.000477</td>\n",
       "      <td>...</td>\n",
       "      <td>1.135000e-05</td>\n",
       "      <td>2.204000e-05</td>\n",
       "      <td>0.007644</td>\n",
       "      <td>1.904700e-04</td>\n",
       "      <td>6.680000e-06</td>\n",
       "      <td>0.000031</td>\n",
       "      <td>0.013981</td>\n",
       "      <td>0.019693</td>\n",
       "      <td>0.000028</td>\n",
       "      <td>video8004.webm</td>\n",
       "    </tr>\n",
       "    <tr>\n",
       "      <th>1999</th>\n",
       "      <td>0.000354</td>\n",
       "      <td>0.001859</td>\n",
       "      <td>0.007415</td>\n",
       "      <td>2.181700e-04</td>\n",
       "      <td>2.167272e-02</td>\n",
       "      <td>9.846000e-05</td>\n",
       "      <td>0.000048</td>\n",
       "      <td>6.119900e-04</td>\n",
       "      <td>0.000267</td>\n",
       "      <td>0.001371</td>\n",
       "      <td>...</td>\n",
       "      <td>1.317019e-02</td>\n",
       "      <td>2.874388e-02</td>\n",
       "      <td>0.014465</td>\n",
       "      <td>7.320400e-04</td>\n",
       "      <td>1.390000e-06</td>\n",
       "      <td>0.009986</td>\n",
       "      <td>0.000233</td>\n",
       "      <td>0.008096</td>\n",
       "      <td>0.002037</td>\n",
       "      <td>video9295.webm</td>\n",
       "    </tr>\n",
       "  </tbody>\n",
       "</table>\n",
       "<p>5 rows × 102 columns</p>\n",
       "</div>"
      ],
      "text/plain": [
       "             0         1         2             3             4             5  \\\n",
       "1995  0.070512  0.308193  0.001473  3.556400e-04  1.748000e-05  4.778000e-05   \n",
       "1996  0.000177  0.000232  0.065861  6.900000e-07  4.749000e-05  1.830400e-04   \n",
       "1997  0.116897  0.004120  0.000082  1.384000e-05  1.500000e-07  1.600000e-07   \n",
       "1998  0.209553  0.125281  0.001236  6.160000e-05  4.180000e-06  3.363000e-05   \n",
       "1999  0.000354  0.001859  0.007415  2.181700e-04  2.167272e-02  9.846000e-05   \n",
       "\n",
       "             6             7         8         9  ...            92  \\\n",
       "1995  0.000100  1.751530e-03  0.009924  0.000032  ...  7.841000e-05   \n",
       "1996  0.000041  1.570700e-04  0.000009  0.000126  ...  3.870000e-06   \n",
       "1997  0.000039  5.500000e-07  0.000003  0.000002  ...  9.900000e-07   \n",
       "1998  0.000406  1.374800e-04  0.000040  0.000477  ...  1.135000e-05   \n",
       "1999  0.000048  6.119900e-04  0.000267  0.001371  ...  1.317019e-02   \n",
       "\n",
       "                93        94            95            96        97        98  \\\n",
       "1995  4.164000e-05  0.002845  1.544700e-04  3.843000e-05  0.000222  0.000528   \n",
       "1996  3.497900e-04  0.000053  1.268500e-04  3.530000e-06  0.000286  0.000018   \n",
       "1997  7.000000e-08  0.000804  6.600000e-07  6.000000e-08  0.000003  0.001728   \n",
       "1998  2.204000e-05  0.007644  1.904700e-04  6.680000e-06  0.000031  0.013981   \n",
       "1999  2.874388e-02  0.014465  7.320400e-04  1.390000e-06  0.009986  0.000233   \n",
       "\n",
       "            99       100           video  \n",
       "1995  0.007921  0.029476  video9699.webm  \n",
       "1996  0.000037  0.157573  video9961.webm  \n",
       "1997  0.003949  0.000078  video9826.webm  \n",
       "1998  0.019693  0.000028  video8004.webm  \n",
       "1999  0.008096  0.002037  video9295.webm  \n",
       "\n",
       "[5 rows x 102 columns]"
      ]
     },
     "execution_count": 34,
     "metadata": {},
     "output_type": "execute_result"
    }
   ],
   "source": [
    "c3d_feat_testset = pd.DataFrame(np.array(list_c3d_test).reshape(2000,101))\n",
    "c3d_feat_testset[\"video\"] = list_video_test\n",
    "c3d_feat_testset.tail()"
   ]
  },
  {
   "cell_type": "markdown",
   "metadata": {},
   "source": [
    "**Let us proceed with training and testing the caption features alone with various machine algorithms**"
   ]
  },
  {
   "cell_type": "code",
   "execution_count": 35,
   "metadata": {},
   "outputs": [],
   "source": [
    "X_devset = X_trainset # input features used for training\n",
    "X_testset = X_testset # input features used for testing\n",
    "Y = cap_train[['short-term_memorability','long-term_memorability']].values"
   ]
  },
  {
   "cell_type": "markdown",
   "metadata": {},
   "source": [
    "**Splitting the 6000 training dataset into train and test to get the spearman's correlation score, This helps to identify the best fit algorithm**"
   ]
  },
  {
   "cell_type": "code",
   "execution_count": 36,
   "metadata": {},
   "outputs": [
    {
     "name": "stdout",
     "output_type": "stream",
     "text": [
      "X_train (4020, 3000)\n",
      "X_test (1980, 3000)\n",
      "Y_train (4020, 2)\n",
      "Y_test (1980, 2)\n"
     ]
    }
   ],
   "source": [
    "from sklearn.model_selection import train_test_split\n",
    "X_train, X_test, Y_train, Y_test = train_test_split(\n",
    "                                             X_devset, Y, \n",
    "                                             test_size=0.33, \n",
    "                                             random_state=42)\n",
    "print('X_train', X_train.shape)\n",
    "print('X_test', X_test.shape)\n",
    "print('Y_train', Y_train.shape)\n",
    "print('Y_test', Y_test.shape)"
   ]
  },
  {
   "cell_type": "markdown",
   "metadata": {},
   "source": [
    "**Using Linear regression algorithm in captions to predict the short term and long term memorability score**"
   ]
  },
  {
   "cell_type": "code",
   "execution_count": 37,
   "metadata": {},
   "outputs": [
    {
     "name": "stdout",
     "output_type": "stream",
     "text": [
      "The Spearman's correlation coefficient is: 0.142\n",
      "The Spearman's correlation coefficient is: 0.080\n"
     ]
    }
   ],
   "source": [
    "from sklearn.linear_model import LinearRegression\n",
    "LR_model = LinearRegression(normalize = False, copy_X = True)\n",
    "LR_model.fit(X_train, Y_train)\n",
    "y_pred = LR_model.predict(X_test)\n",
    "Get_score(y_pred, Y_test)"
   ]
  },
  {
   "cell_type": "markdown",
   "metadata": {},
   "source": [
    "**Using Decision Tree Regression model in captions to predict the short term and long term memorability scores**"
   ]
  },
  {
   "cell_type": "code",
   "execution_count": 38,
   "metadata": {},
   "outputs": [
    {
     "name": "stdout",
     "output_type": "stream",
     "text": [
      "The Spearman's correlation coefficient is: 0.300\n",
      "The Spearman's correlation coefficient is: 0.110\n"
     ]
    }
   ],
   "source": [
    "from sklearn.tree import DecisionTreeRegressor\n",
    "DT_model = DecisionTreeRegressor(criterion = 'mse', splitter = 'random', random_state = 0)\n",
    "DT_model.fit(X_train, Y_train)\n",
    "y_pred = DT_model.predict(X_test)\n",
    "Get_score(y_pred, Y_test)"
   ]
  },
  {
   "cell_type": "markdown",
   "metadata": {},
   "source": [
    "**Using K-Nearest Neighbors Regression model in captions to predict the short and long term memorability score**"
   ]
  },
  {
   "cell_type": "code",
   "execution_count": 39,
   "metadata": {},
   "outputs": [
    {
     "name": "stdout",
     "output_type": "stream",
     "text": [
      "The Spearman's correlation coefficient is: 0.417\n",
      "The Spearman's correlation coefficient is: 0.158\n"
     ]
    }
   ],
   "source": [
    "from sklearn.neighbors import KNeighborsRegressor\n",
    "KN_model = KNeighborsRegressor(n_neighbors=15, weights = 'uniform')\n",
    "KN_model.fit(X_train,Y_train)\n",
    "y_pred = KN_model.predict(X_test)\n",
    "Get_score(y_pred, Y_test)"
   ]
  },
  {
   "cell_type": "markdown",
   "metadata": {},
   "source": [
    "**Using Random forest regression algorithm model in captions to predict the short term and long term memorability score**"
   ]
  },
  {
   "cell_type": "code",
   "execution_count": 40,
   "metadata": {},
   "outputs": [
    {
     "name": "stdout",
     "output_type": "stream",
     "text": [
      "building tree 1 of 100\n"
     ]
    },
    {
     "name": "stderr",
     "output_type": "stream",
     "text": [
      "[Parallel(n_jobs=1)]: Using backend SequentialBackend with 1 concurrent workers.\n",
      "[Parallel(n_jobs=1)]: Done   1 out of   1 | elapsed:    4.4s remaining:    0.0s\n"
     ]
    },
    {
     "name": "stdout",
     "output_type": "stream",
     "text": [
      "building tree 2 of 100\n",
      "building tree 3 of 100\n",
      "building tree 4 of 100\n",
      "building tree 5 of 100\n",
      "building tree 6 of 100\n",
      "building tree 7 of 100\n",
      "building tree 8 of 100\n",
      "building tree 9 of 100\n",
      "building tree 10 of 100\n",
      "building tree 11 of 100\n",
      "building tree 12 of 100\n",
      "building tree 13 of 100\n",
      "building tree 14 of 100\n",
      "building tree 15 of 100\n",
      "building tree 16 of 100\n",
      "building tree 17 of 100\n",
      "building tree 18 of 100\n",
      "building tree 19 of 100\n",
      "building tree 20 of 100\n",
      "building tree 21 of 100\n",
      "building tree 22 of 100\n",
      "building tree 23 of 100\n",
      "building tree 24 of 100\n",
      "building tree 25 of 100\n",
      "building tree 26 of 100\n",
      "building tree 27 of 100\n",
      "building tree 28 of 100\n",
      "building tree 29 of 100\n",
      "building tree 30 of 100\n",
      "building tree 31 of 100\n",
      "building tree 32 of 100\n",
      "building tree 33 of 100\n",
      "building tree 34 of 100\n",
      "building tree 35 of 100\n",
      "building tree 36 of 100\n",
      "building tree 37 of 100\n",
      "building tree 38 of 100\n",
      "building tree 39 of 100\n",
      "building tree 40 of 100\n",
      "building tree 41 of 100\n",
      "building tree 42 of 100\n",
      "building tree 43 of 100\n",
      "building tree 44 of 100\n",
      "building tree 45 of 100\n",
      "building tree 46 of 100\n",
      "building tree 47 of 100\n",
      "building tree 48 of 100\n",
      "building tree 49 of 100\n",
      "building tree 50 of 100\n",
      "building tree 51 of 100\n",
      "building tree 52 of 100\n",
      "building tree 53 of 100\n",
      "building tree 54 of 100\n",
      "building tree 55 of 100\n",
      "building tree 56 of 100\n",
      "building tree 57 of 100\n",
      "building tree 58 of 100\n",
      "building tree 59 of 100\n",
      "building tree 60 of 100\n",
      "building tree 61 of 100\n",
      "building tree 62 of 100\n",
      "building tree 63 of 100\n",
      "building tree 64 of 100\n",
      "building tree 65 of 100\n",
      "building tree 66 of 100\n",
      "building tree 67 of 100\n",
      "building tree 68 of 100\n",
      "building tree 69 of 100\n",
      "building tree 70 of 100\n",
      "building tree 71 of 100\n",
      "building tree 72 of 100\n",
      "building tree 73 of 100\n",
      "building tree 74 of 100\n",
      "building tree 75 of 100\n",
      "building tree 76 of 100\n",
      "building tree 77 of 100\n",
      "building tree 78 of 100\n",
      "building tree 79 of 100\n",
      "building tree 80 of 100\n",
      "building tree 81 of 100\n",
      "building tree 82 of 100\n",
      "building tree 83 of 100\n",
      "building tree 84 of 100\n",
      "building tree 85 of 100\n",
      "building tree 86 of 100\n",
      "building tree 87 of 100\n",
      "building tree 88 of 100\n",
      "building tree 89 of 100\n",
      "building tree 90 of 100\n",
      "building tree 91 of 100\n",
      "building tree 92 of 100\n",
      "building tree 93 of 100\n",
      "building tree 94 of 100\n",
      "building tree 95 of 100\n",
      "building tree 96 of 100\n",
      "building tree 97 of 100\n",
      "building tree 98 of 100\n",
      "building tree 99 of 100\n",
      "building tree 100 of 100\n",
      "The Spearman's correlation coefficient is: 0.415\n",
      "The Spearman's correlation coefficient is: 0.168\n"
     ]
    },
    {
     "name": "stderr",
     "output_type": "stream",
     "text": [
      "[Parallel(n_jobs=1)]: Done 100 out of 100 | elapsed:  6.8min finished\n",
      "[Parallel(n_jobs=1)]: Using backend SequentialBackend with 1 concurrent workers.\n",
      "[Parallel(n_jobs=1)]: Done   1 out of   1 | elapsed:    0.0s remaining:    0.0s\n",
      "[Parallel(n_jobs=1)]: Done 100 out of 100 | elapsed:    0.2s finished\n"
     ]
    }
   ],
   "source": [
    "from sklearn.ensemble import RandomForestRegressor\n",
    "RF_model = RandomForestRegressor(n_estimators = 100, verbose = 2)\n",
    "RF_model.fit(X_train, Y_train)\n",
    "y_pred = RF_model.predict(X_test)\n",
    "Get_score(y_pred, Y_test)"
   ]
  },
  {
   "cell_type": "markdown",
   "metadata": {},
   "source": [
    "**From the above trained ML algorithms on titles of video files named  as Video captions with TFIDF we can conclude that K-Nearest Neighbour regression performed well with 0.417 score on short term memorability and Random forest regression performed better with 0.168 score for long-term memorability**"
   ]
  },
  {
   "cell_type": "markdown",
   "metadata": {},
   "source": [
    "**Now let us investigate and build ML models on C3D feature alone**"
   ]
  },
  {
   "cell_type": "markdown",
   "metadata": {},
   "source": [
    "**Merging the C3D feature with ground truth values**"
   ]
  },
  {
   "cell_type": "code",
   "execution_count": 41,
   "metadata": {},
   "outputs": [
    {
     "data": {
      "text/html": [
       "<div>\n",
       "<style scoped>\n",
       "    .dataframe tbody tr th:only-of-type {\n",
       "        vertical-align: middle;\n",
       "    }\n",
       "\n",
       "    .dataframe tbody tr th {\n",
       "        vertical-align: top;\n",
       "    }\n",
       "\n",
       "    .dataframe thead th {\n",
       "        text-align: right;\n",
       "    }\n",
       "</style>\n",
       "<table border=\"1\" class=\"dataframe\">\n",
       "  <thead>\n",
       "    <tr style=\"text-align: right;\">\n",
       "      <th></th>\n",
       "      <th>video</th>\n",
       "      <th>short-term_memorability</th>\n",
       "      <th>nb_short-term_annotations</th>\n",
       "      <th>long-term_memorability</th>\n",
       "      <th>nb_long-term_annotations</th>\n",
       "      <th>0</th>\n",
       "      <th>1</th>\n",
       "      <th>2</th>\n",
       "      <th>3</th>\n",
       "      <th>4</th>\n",
       "      <th>...</th>\n",
       "      <th>91</th>\n",
       "      <th>92</th>\n",
       "      <th>93</th>\n",
       "      <th>94</th>\n",
       "      <th>95</th>\n",
       "      <th>96</th>\n",
       "      <th>97</th>\n",
       "      <th>98</th>\n",
       "      <th>99</th>\n",
       "      <th>100</th>\n",
       "    </tr>\n",
       "  </thead>\n",
       "  <tbody>\n",
       "    <tr>\n",
       "      <th>0</th>\n",
       "      <td>video3.webm</td>\n",
       "      <td>0.924</td>\n",
       "      <td>34</td>\n",
       "      <td>0.846</td>\n",
       "      <td>13</td>\n",
       "      <td>0.020249</td>\n",
       "      <td>0.001578</td>\n",
       "      <td>0.000826</td>\n",
       "      <td>0.000945</td>\n",
       "      <td>0.000063</td>\n",
       "      <td>...</td>\n",
       "      <td>0.001042</td>\n",
       "      <td>0.000161</td>\n",
       "      <td>0.000257</td>\n",
       "      <td>0.046617</td>\n",
       "      <td>0.000156</td>\n",
       "      <td>0.000006</td>\n",
       "      <td>0.000537</td>\n",
       "      <td>0.000339</td>\n",
       "      <td>0.008437</td>\n",
       "      <td>0.000470</td>\n",
       "    </tr>\n",
       "    <tr>\n",
       "      <th>1</th>\n",
       "      <td>video4.webm</td>\n",
       "      <td>0.923</td>\n",
       "      <td>33</td>\n",
       "      <td>0.667</td>\n",
       "      <td>12</td>\n",
       "      <td>0.000118</td>\n",
       "      <td>0.000891</td>\n",
       "      <td>0.000188</td>\n",
       "      <td>0.000045</td>\n",
       "      <td>0.000063</td>\n",
       "      <td>...</td>\n",
       "      <td>0.000582</td>\n",
       "      <td>0.000393</td>\n",
       "      <td>0.000864</td>\n",
       "      <td>0.000947</td>\n",
       "      <td>0.000136</td>\n",
       "      <td>0.000007</td>\n",
       "      <td>0.000360</td>\n",
       "      <td>0.000159</td>\n",
       "      <td>0.001025</td>\n",
       "      <td>0.000020</td>\n",
       "    </tr>\n",
       "    <tr>\n",
       "      <th>2</th>\n",
       "      <td>video6.webm</td>\n",
       "      <td>0.863</td>\n",
       "      <td>33</td>\n",
       "      <td>0.700</td>\n",
       "      <td>10</td>\n",
       "      <td>0.011765</td>\n",
       "      <td>0.000746</td>\n",
       "      <td>0.000784</td>\n",
       "      <td>0.000013</td>\n",
       "      <td>0.000007</td>\n",
       "      <td>...</td>\n",
       "      <td>0.000224</td>\n",
       "      <td>0.000003</td>\n",
       "      <td>0.000031</td>\n",
       "      <td>0.002538</td>\n",
       "      <td>0.000104</td>\n",
       "      <td>0.000005</td>\n",
       "      <td>0.000064</td>\n",
       "      <td>0.005380</td>\n",
       "      <td>0.001027</td>\n",
       "      <td>0.001384</td>\n",
       "    </tr>\n",
       "    <tr>\n",
       "      <th>3</th>\n",
       "      <td>video8.webm</td>\n",
       "      <td>0.922</td>\n",
       "      <td>33</td>\n",
       "      <td>0.818</td>\n",
       "      <td>11</td>\n",
       "      <td>0.000223</td>\n",
       "      <td>0.000165</td>\n",
       "      <td>0.000007</td>\n",
       "      <td>0.000016</td>\n",
       "      <td>0.000005</td>\n",
       "      <td>...</td>\n",
       "      <td>0.000046</td>\n",
       "      <td>0.000009</td>\n",
       "      <td>0.000023</td>\n",
       "      <td>0.000053</td>\n",
       "      <td>0.000048</td>\n",
       "      <td>0.000019</td>\n",
       "      <td>0.000001</td>\n",
       "      <td>0.000004</td>\n",
       "      <td>0.000380</td>\n",
       "      <td>0.000029</td>\n",
       "    </tr>\n",
       "    <tr>\n",
       "      <th>4</th>\n",
       "      <td>video10.webm</td>\n",
       "      <td>0.950</td>\n",
       "      <td>34</td>\n",
       "      <td>0.900</td>\n",
       "      <td>10</td>\n",
       "      <td>0.000090</td>\n",
       "      <td>0.000615</td>\n",
       "      <td>0.003436</td>\n",
       "      <td>0.001281</td>\n",
       "      <td>0.003551</td>\n",
       "      <td>...</td>\n",
       "      <td>0.000037</td>\n",
       "      <td>0.000690</td>\n",
       "      <td>0.000171</td>\n",
       "      <td>0.000231</td>\n",
       "      <td>0.000637</td>\n",
       "      <td>0.000040</td>\n",
       "      <td>0.000061</td>\n",
       "      <td>0.000075</td>\n",
       "      <td>0.000002</td>\n",
       "      <td>0.001323</td>\n",
       "    </tr>\n",
       "  </tbody>\n",
       "</table>\n",
       "<p>5 rows × 106 columns</p>\n",
       "</div>"
      ],
      "text/plain": [
       "          video  short-term_memorability  nb_short-term_annotations  \\\n",
       "0   video3.webm                    0.924                         34   \n",
       "1   video4.webm                    0.923                         33   \n",
       "2   video6.webm                    0.863                         33   \n",
       "3   video8.webm                    0.922                         33   \n",
       "4  video10.webm                    0.950                         34   \n",
       "\n",
       "   long-term_memorability  nb_long-term_annotations         0         1  \\\n",
       "0                   0.846                        13  0.020249  0.001578   \n",
       "1                   0.667                        12  0.000118  0.000891   \n",
       "2                   0.700                        10  0.011765  0.000746   \n",
       "3                   0.818                        11  0.000223  0.000165   \n",
       "4                   0.900                        10  0.000090  0.000615   \n",
       "\n",
       "          2         3         4  ...        91        92        93        94  \\\n",
       "0  0.000826  0.000945  0.000063  ...  0.001042  0.000161  0.000257  0.046617   \n",
       "1  0.000188  0.000045  0.000063  ...  0.000582  0.000393  0.000864  0.000947   \n",
       "2  0.000784  0.000013  0.000007  ...  0.000224  0.000003  0.000031  0.002538   \n",
       "3  0.000007  0.000016  0.000005  ...  0.000046  0.000009  0.000023  0.000053   \n",
       "4  0.003436  0.001281  0.003551  ...  0.000037  0.000690  0.000171  0.000231   \n",
       "\n",
       "         95        96        97        98        99       100  \n",
       "0  0.000156  0.000006  0.000537  0.000339  0.008437  0.000470  \n",
       "1  0.000136  0.000007  0.000360  0.000159  0.001025  0.000020  \n",
       "2  0.000104  0.000005  0.000064  0.005380  0.001027  0.001384  \n",
       "3  0.000048  0.000019  0.000001  0.000004  0.000380  0.000029  \n",
       "4  0.000637  0.000040  0.000061  0.000075  0.000002  0.001323  \n",
       "\n",
       "[5 rows x 106 columns]"
      ]
     },
     "execution_count": 41,
     "metadata": {},
     "output_type": "execute_result"
    }
   ],
   "source": [
    "c3d_feature = pd.merge(labels, c3d_feature, on='video')\n",
    "c3d_feature.head() # C3D training dataset"
   ]
  },
  {
   "cell_type": "code",
   "execution_count": 42,
   "metadata": {},
   "outputs": [
    {
     "name": "stdout",
     "output_type": "stream",
     "text": [
      "Training set of C3D features (6000, 101)\n",
      "Testing set of C3D feature (2000, 101)\n"
     ]
    }
   ],
   "source": [
    "c3d_trainset = c3d_feature.iloc[:,5:107].values\n",
    "c3d_testset = c3d_feat_testset.iloc[:,:101]\n",
    "print('Training set of C3D features', c3d_trainset.shape)\n",
    "print('Testing set of C3D feature', c3d_testset.shape)"
   ]
  },
  {
   "cell_type": "code",
   "execution_count": 43,
   "metadata": {},
   "outputs": [],
   "source": [
    "X = c3d_trainset # C3D input features for training\n",
    "Y = labels[['short-term_memorability','long-term_memorability']].values"
   ]
  },
  {
   "cell_type": "markdown",
   "metadata": {},
   "source": [
    "**Splitting the training set C3D features into Train and Test set for validation purposes**"
   ]
  },
  {
   "cell_type": "code",
   "execution_count": 44,
   "metadata": {},
   "outputs": [
    {
     "name": "stdout",
     "output_type": "stream",
     "text": [
      "X_train (4020, 101)\n",
      "X_test (1980, 101)\n",
      "Y_train (4020, 2)\n",
      "Y_test (1980, 2)\n"
     ]
    }
   ],
   "source": [
    "X_train, X_test, y_train, y_test = train_test_split(X, Y, test_size = 0.33, random_state = 42)\n",
    "print('X_train', X_train.shape)\n",
    "print('X_test', X_test.shape)\n",
    "print('Y_train', y_train.shape)\n",
    "print('Y_test', y_test.shape)"
   ]
  },
  {
   "cell_type": "markdown",
   "metadata": {},
   "source": [
    "**Using Linear regression algorithm on C3D features alone**"
   ]
  },
  {
   "cell_type": "code",
   "execution_count": 45,
   "metadata": {},
   "outputs": [
    {
     "name": "stdout",
     "output_type": "stream",
     "text": [
      "The Spearman's correlation coefficient is: 0.278\n",
      "The Spearman's correlation coefficient is: 0.119\n"
     ]
    }
   ],
   "source": [
    "LR_model = LinearRegression(normalize = True, copy_X = True)\n",
    "LR_model.fit(X_train, y_train)\n",
    "y_pred = LR_model.predict(X_test)\n",
    "Get_score(y_pred, y_test)"
   ]
  },
  {
   "cell_type": "markdown",
   "metadata": {},
   "source": [
    "**Using Decision Tree regression algorithm on C3D features**"
   ]
  },
  {
   "cell_type": "code",
   "execution_count": 46,
   "metadata": {},
   "outputs": [
    {
     "name": "stdout",
     "output_type": "stream",
     "text": [
      "The Spearman's correlation coefficient is: 0.117\n",
      "The Spearman's correlation coefficient is: 0.055\n"
     ]
    }
   ],
   "source": [
    "DT_model = DecisionTreeRegressor(criterion = 'friedman_mse', splitter = 'random', random_state = 0)\n",
    "DT_model.fit(X_train, y_train)\n",
    "y_pred = DT_model.predict(X_test)\n",
    "Get_score(y_pred, y_test)"
   ]
  },
  {
   "cell_type": "markdown",
   "metadata": {},
   "source": [
    "**Using K-Nearest Neighbour Regression on C3D features**"
   ]
  },
  {
   "cell_type": "code",
   "execution_count": 47,
   "metadata": {},
   "outputs": [
    {
     "name": "stdout",
     "output_type": "stream",
     "text": [
      "The Spearman's correlation coefficient is: 0.220\n",
      "The Spearman's correlation coefficient is: 0.063\n"
     ]
    }
   ],
   "source": [
    "KN_model = KNeighborsRegressor(n_neighbors=20, weights = 'distance')\n",
    "KN_model.fit(X_train,y_train)\n",
    "y_pred = KN_model.predict(X_test)\n",
    "Get_score(y_pred, y_test)"
   ]
  },
  {
   "cell_type": "markdown",
   "metadata": {},
   "source": [
    "**Using Random forest regression on C3D features**"
   ]
  },
  {
   "cell_type": "code",
   "execution_count": 48,
   "metadata": {},
   "outputs": [
    {
     "name": "stdout",
     "output_type": "stream",
     "text": [
      "The Spearman's correlation coefficient is: 0.327\n",
      "The Spearman's correlation coefficient is: 0.151\n"
     ]
    }
   ],
   "source": [
    "RF_model = RandomForestRegressor(n_estimators=500, random_state = 42, max_depth = 20)\n",
    "RF_model.fit(X_train, y_train)\n",
    "y_pred = RF_model.predict(X_test)\n",
    "Get_score(y_pred, y_test)"
   ]
  },
  {
   "cell_type": "markdown",
   "metadata": {},
   "source": [
    "**From the above trained ML algorithms on C3D features we can conclude that Random forest regression performed better with 0.327 score for short-term memorability and 0.151 for long-term memorability score**"
   ]
  },
  {
   "cell_type": "markdown",
   "metadata": {},
   "source": [
    "**Now we are combining both the C3D feature and Video captions together using concatenate method for efficient model building (for both training and testing)**"
   ]
  },
  {
   "cell_type": "code",
   "execution_count": 49,
   "metadata": {},
   "outputs": [
    {
     "name": "stdout",
     "output_type": "stream",
     "text": [
      "Training data with both Captions and C3D combined (6000, 3101)\n"
     ]
    }
   ],
   "source": [
    "Cap_C3D = np.concatenate((Caption_features, c3d_trainset), axis=1)\n",
    "print('Training data with both Captions and C3D combined', Cap_C3D.shape)"
   ]
  },
  {
   "cell_type": "code",
   "execution_count": 50,
   "metadata": {},
   "outputs": [
    {
     "name": "stdout",
     "output_type": "stream",
     "text": [
      "Testing data for captions and C3D features (2000, 3101)\n"
     ]
    }
   ],
   "source": [
    "Cap_C3D_testset = np.concatenate((X_testset, c3d_testset), axis=1)\n",
    "print('Testing data for captions and C3D features', Cap_C3D_testset.shape)"
   ]
  },
  {
   "cell_type": "code",
   "execution_count": null,
   "metadata": {},
   "outputs": [],
   "source": [
    "X = Cap_C3D # Training feature of 6000 videos both Caption and C3D\n",
    "Y = labels[['short-term_memorability','long-term_memorability']].values"
   ]
  },
  {
   "cell_type": "markdown",
   "metadata": {},
   "source": [
    "**Splitting the training dataset into train and test for validation purpose. You get 3101 features when you combine 3000 features from caption and 101 from C3D**"
   ]
  },
  {
   "cell_type": "code",
   "execution_count": 52,
   "metadata": {},
   "outputs": [
    {
     "name": "stdout",
     "output_type": "stream",
     "text": [
      "X_train (4020, 3101)\n",
      "X_test (1980, 3101)\n",
      "Y_train (4020, 2)\n",
      "Y_test (1980, 2)\n"
     ]
    }
   ],
   "source": [
    "X_train, X_test, Y_train, Y_test = train_test_split(\n",
    "                                             X, Y, \n",
    "                                             test_size=0.33, \n",
    "                                             random_state=42)\n",
    "print('X_train', X_train.shape)\n",
    "print('X_test', X_test.shape)\n",
    "print('Y_train', Y_train.shape)\n",
    "print('Y_test', Y_test.shape)"
   ]
  },
  {
   "cell_type": "markdown",
   "metadata": {},
   "source": [
    "**Using K-Nearest Neighbour Regression Algorithm for combining the two features Caption and C3D. Evaluate the performance using spearman's correlation coefficient**"
   ]
  },
  {
   "cell_type": "markdown",
   "metadata": {},
   "source": [
    "**In order to find the number of neigbors for KNN regression, I am visualizing by giving a range from 20 to 30**"
   ]
  },
  {
   "cell_type": "code",
   "execution_count": 57,
   "metadata": {},
   "outputs": [
    {
     "name": "stderr",
     "output_type": "stream",
     "text": [
      "/opt/conda/lib/python3.7/site-packages/sklearn/base.py:434: FutureWarning: The default value of multioutput (not exposed in score method) will change from 'variance_weighted' to 'uniform_average' in 0.23 to keep consistent with 'metrics.r2_score'. To specify the default value manually and avoid the warning, please either call 'metrics.r2_score' directly or make a custom scorer with 'metrics.make_scorer' (the built-in scorer 'r2' uses multioutput='uniform_average').\n",
      "  \"multioutput='uniform_average').\", FutureWarning)\n",
      "/opt/conda/lib/python3.7/site-packages/sklearn/base.py:434: FutureWarning: The default value of multioutput (not exposed in score method) will change from 'variance_weighted' to 'uniform_average' in 0.23 to keep consistent with 'metrics.r2_score'. To specify the default value manually and avoid the warning, please either call 'metrics.r2_score' directly or make a custom scorer with 'metrics.make_scorer' (the built-in scorer 'r2' uses multioutput='uniform_average').\n",
      "  \"multioutput='uniform_average').\", FutureWarning)\n",
      "/opt/conda/lib/python3.7/site-packages/sklearn/base.py:434: FutureWarning: The default value of multioutput (not exposed in score method) will change from 'variance_weighted' to 'uniform_average' in 0.23 to keep consistent with 'metrics.r2_score'. To specify the default value manually and avoid the warning, please either call 'metrics.r2_score' directly or make a custom scorer with 'metrics.make_scorer' (the built-in scorer 'r2' uses multioutput='uniform_average').\n",
      "  \"multioutput='uniform_average').\", FutureWarning)\n",
      "/opt/conda/lib/python3.7/site-packages/sklearn/base.py:434: FutureWarning: The default value of multioutput (not exposed in score method) will change from 'variance_weighted' to 'uniform_average' in 0.23 to keep consistent with 'metrics.r2_score'. To specify the default value manually and avoid the warning, please either call 'metrics.r2_score' directly or make a custom scorer with 'metrics.make_scorer' (the built-in scorer 'r2' uses multioutput='uniform_average').\n",
      "  \"multioutput='uniform_average').\", FutureWarning)\n",
      "/opt/conda/lib/python3.7/site-packages/sklearn/base.py:434: FutureWarning: The default value of multioutput (not exposed in score method) will change from 'variance_weighted' to 'uniform_average' in 0.23 to keep consistent with 'metrics.r2_score'. To specify the default value manually and avoid the warning, please either call 'metrics.r2_score' directly or make a custom scorer with 'metrics.make_scorer' (the built-in scorer 'r2' uses multioutput='uniform_average').\n",
      "  \"multioutput='uniform_average').\", FutureWarning)\n",
      "/opt/conda/lib/python3.7/site-packages/sklearn/base.py:434: FutureWarning: The default value of multioutput (not exposed in score method) will change from 'variance_weighted' to 'uniform_average' in 0.23 to keep consistent with 'metrics.r2_score'. To specify the default value manually and avoid the warning, please either call 'metrics.r2_score' directly or make a custom scorer with 'metrics.make_scorer' (the built-in scorer 'r2' uses multioutput='uniform_average').\n",
      "  \"multioutput='uniform_average').\", FutureWarning)\n",
      "/opt/conda/lib/python3.7/site-packages/sklearn/base.py:434: FutureWarning: The default value of multioutput (not exposed in score method) will change from 'variance_weighted' to 'uniform_average' in 0.23 to keep consistent with 'metrics.r2_score'. To specify the default value manually and avoid the warning, please either call 'metrics.r2_score' directly or make a custom scorer with 'metrics.make_scorer' (the built-in scorer 'r2' uses multioutput='uniform_average').\n",
      "  \"multioutput='uniform_average').\", FutureWarning)\n",
      "/opt/conda/lib/python3.7/site-packages/sklearn/base.py:434: FutureWarning: The default value of multioutput (not exposed in score method) will change from 'variance_weighted' to 'uniform_average' in 0.23 to keep consistent with 'metrics.r2_score'. To specify the default value manually and avoid the warning, please either call 'metrics.r2_score' directly or make a custom scorer with 'metrics.make_scorer' (the built-in scorer 'r2' uses multioutput='uniform_average').\n",
      "  \"multioutput='uniform_average').\", FutureWarning)\n",
      "/opt/conda/lib/python3.7/site-packages/sklearn/base.py:434: FutureWarning: The default value of multioutput (not exposed in score method) will change from 'variance_weighted' to 'uniform_average' in 0.23 to keep consistent with 'metrics.r2_score'. To specify the default value manually and avoid the warning, please either call 'metrics.r2_score' directly or make a custom scorer with 'metrics.make_scorer' (the built-in scorer 'r2' uses multioutput='uniform_average').\n",
      "  \"multioutput='uniform_average').\", FutureWarning)\n",
      "/opt/conda/lib/python3.7/site-packages/sklearn/base.py:434: FutureWarning: The default value of multioutput (not exposed in score method) will change from 'variance_weighted' to 'uniform_average' in 0.23 to keep consistent with 'metrics.r2_score'. To specify the default value manually and avoid the warning, please either call 'metrics.r2_score' directly or make a custom scorer with 'metrics.make_scorer' (the built-in scorer 'r2' uses multioutput='uniform_average').\n",
      "  \"multioutput='uniform_average').\", FutureWarning)\n",
      "/opt/conda/lib/python3.7/site-packages/sklearn/base.py:434: FutureWarning: The default value of multioutput (not exposed in score method) will change from 'variance_weighted' to 'uniform_average' in 0.23 to keep consistent with 'metrics.r2_score'. To specify the default value manually and avoid the warning, please either call 'metrics.r2_score' directly or make a custom scorer with 'metrics.make_scorer' (the built-in scorer 'r2' uses multioutput='uniform_average').\n",
      "  \"multioutput='uniform_average').\", FutureWarning)\n",
      "/opt/conda/lib/python3.7/site-packages/sklearn/base.py:434: FutureWarning: The default value of multioutput (not exposed in score method) will change from 'variance_weighted' to 'uniform_average' in 0.23 to keep consistent with 'metrics.r2_score'. To specify the default value manually and avoid the warning, please either call 'metrics.r2_score' directly or make a custom scorer with 'metrics.make_scorer' (the built-in scorer 'r2' uses multioutput='uniform_average').\n",
      "  \"multioutput='uniform_average').\", FutureWarning)\n",
      "/opt/conda/lib/python3.7/site-packages/sklearn/base.py:434: FutureWarning: The default value of multioutput (not exposed in score method) will change from 'variance_weighted' to 'uniform_average' in 0.23 to keep consistent with 'metrics.r2_score'. To specify the default value manually and avoid the warning, please either call 'metrics.r2_score' directly or make a custom scorer with 'metrics.make_scorer' (the built-in scorer 'r2' uses multioutput='uniform_average').\n",
      "  \"multioutput='uniform_average').\", FutureWarning)\n",
      "/opt/conda/lib/python3.7/site-packages/sklearn/base.py:434: FutureWarning: The default value of multioutput (not exposed in score method) will change from 'variance_weighted' to 'uniform_average' in 0.23 to keep consistent with 'metrics.r2_score'. To specify the default value manually and avoid the warning, please either call 'metrics.r2_score' directly or make a custom scorer with 'metrics.make_scorer' (the built-in scorer 'r2' uses multioutput='uniform_average').\n",
      "  \"multioutput='uniform_average').\", FutureWarning)\n",
      "/opt/conda/lib/python3.7/site-packages/sklearn/base.py:434: FutureWarning: The default value of multioutput (not exposed in score method) will change from 'variance_weighted' to 'uniform_average' in 0.23 to keep consistent with 'metrics.r2_score'. To specify the default value manually and avoid the warning, please either call 'metrics.r2_score' directly or make a custom scorer with 'metrics.make_scorer' (the built-in scorer 'r2' uses multioutput='uniform_average').\n",
      "  \"multioutput='uniform_average').\", FutureWarning)\n",
      "/opt/conda/lib/python3.7/site-packages/sklearn/base.py:434: FutureWarning: The default value of multioutput (not exposed in score method) will change from 'variance_weighted' to 'uniform_average' in 0.23 to keep consistent with 'metrics.r2_score'. To specify the default value manually and avoid the warning, please either call 'metrics.r2_score' directly or make a custom scorer with 'metrics.make_scorer' (the built-in scorer 'r2' uses multioutput='uniform_average').\n",
      "  \"multioutput='uniform_average').\", FutureWarning)\n",
      "/opt/conda/lib/python3.7/site-packages/sklearn/base.py:434: FutureWarning: The default value of multioutput (not exposed in score method) will change from 'variance_weighted' to 'uniform_average' in 0.23 to keep consistent with 'metrics.r2_score'. To specify the default value manually and avoid the warning, please either call 'metrics.r2_score' directly or make a custom scorer with 'metrics.make_scorer' (the built-in scorer 'r2' uses multioutput='uniform_average').\n",
      "  \"multioutput='uniform_average').\", FutureWarning)\n",
      "/opt/conda/lib/python3.7/site-packages/sklearn/base.py:434: FutureWarning: The default value of multioutput (not exposed in score method) will change from 'variance_weighted' to 'uniform_average' in 0.23 to keep consistent with 'metrics.r2_score'. To specify the default value manually and avoid the warning, please either call 'metrics.r2_score' directly or make a custom scorer with 'metrics.make_scorer' (the built-in scorer 'r2' uses multioutput='uniform_average').\n",
      "  \"multioutput='uniform_average').\", FutureWarning)\n",
      "/opt/conda/lib/python3.7/site-packages/sklearn/base.py:434: FutureWarning: The default value of multioutput (not exposed in score method) will change from 'variance_weighted' to 'uniform_average' in 0.23 to keep consistent with 'metrics.r2_score'. To specify the default value manually and avoid the warning, please either call 'metrics.r2_score' directly or make a custom scorer with 'metrics.make_scorer' (the built-in scorer 'r2' uses multioutput='uniform_average').\n",
      "  \"multioutput='uniform_average').\", FutureWarning)\n",
      "/opt/conda/lib/python3.7/site-packages/sklearn/base.py:434: FutureWarning: The default value of multioutput (not exposed in score method) will change from 'variance_weighted' to 'uniform_average' in 0.23 to keep consistent with 'metrics.r2_score'. To specify the default value manually and avoid the warning, please either call 'metrics.r2_score' directly or make a custom scorer with 'metrics.make_scorer' (the built-in scorer 'r2' uses multioutput='uniform_average').\n",
      "  \"multioutput='uniform_average').\", FutureWarning)\n"
     ]
    }
   ],
   "source": [
    "#arrays to store the training and testing accuracies\n",
    "from sklearn.metrics import r2_score\n",
    "neighbors = np.arange(20, 30)\n",
    "train_accuracy =np.empty(len(neighbors))\n",
    "test_accuracy = np.empty(len(neighbors))\n",
    "\n",
    "for i,k in enumerate(neighbors):\n",
    "    knn = KNeighborsRegressor(n_neighbors=k)\n",
    "    knn.fit(X_train, Y_train)\n",
    "    \n",
    "    #Compute accuracy on the training set\n",
    "    train_accuracy[i] = knn.score(X_train, Y_train)\n",
    "    \n",
    "    #Compute accuracy on the test set\n",
    "    test_accuracy[i] = knn.score(X_test, Y_test)"
   ]
  },
  {
   "cell_type": "code",
   "execution_count": 59,
   "metadata": {},
   "outputs": [
    {
     "data": {
      "text/plain": [
       "Text(0, 0.5, 'Accuracy')"
      ]
     },
     "execution_count": 59,
     "metadata": {},
     "output_type": "execute_result"
    },
    {
     "data": {
      "image/png": "[encoded data removed]",
      "text/plain": [
       "<Figure size 720x432 with 1 Axes>"
      ]
     },
     "metadata": {
      "needs_background": "light"
     },
     "output_type": "display_data"
    }
   ],
   "source": [
    "import matplotlib.pyplot as plt\n",
    "plt.figure(figsize=(10,6))\n",
    "plt.title('k-NN Varying number of neighbors')\n",
    "plt.plot(neighbors, test_accuracy, label='Testing Accuracy')\n",
    "plt.plot(neighbors, train_accuracy, label='Training accuracy')\n",
    "plt.legend()\n",
    "plt.xlabel('Number of neighbors')\n",
    "plt.ylabel('Accuracy')\n",
    "#plt.show()"
   ]
  },
  {
   "cell_type": "markdown",
   "metadata": {},
   "source": [
    "**From the above plot, we can say that n_neighbors = 26 has the correct amount of training accuracy and testing accuracy. Thus the model DOES NOT OVERFIT**"
   ]
  },
  {
   "cell_type": "code",
   "execution_count": 68,
   "metadata": {},
   "outputs": [
    {
     "name": "stdout",
     "output_type": "stream",
     "text": [
      "The Spearman's correlation coefficient is: 0.381\n",
      "The Spearman's correlation coefficient is: 0.169\n"
     ]
    }
   ],
   "source": [
    "KN_model = KNeighborsRegressor(n_neighbors=26, weights = 'distance')\n",
    "KN_model.fit(X_train,Y_train)\n",
    "y_pred = KN_model.predict(X_test)\n",
    "Get_score(y_pred, Y_test)"
   ]
  },
  {
   "cell_type": "markdown",
   "metadata": {},
   "source": [
    "**Now, we have to use the Whole training dataset of 6000 videos to train and fit in the KNN algorithm**"
   ]
  },
  {
   "cell_type": "code",
   "execution_count": 69,
   "metadata": {},
   "outputs": [
    {
     "data": {
      "text/plain": [
       "KNeighborsRegressor(algorithm='auto', leaf_size=30, metric='minkowski',\n",
       "                    metric_params=None, n_jobs=None, n_neighbors=26, p=2,\n",
       "                    weights='distance')"
      ]
     },
     "execution_count": 69,
     "metadata": {},
     "output_type": "execute_result"
    }
   ],
   "source": [
    "knn = KNeighborsRegressor(n_neighbors=26, weights = 'distance')\n",
    "knn.fit(X, Y)"
   ]
  },
  {
   "cell_type": "code",
   "execution_count": 70,
   "metadata": {},
   "outputs": [
    {
     "name": "stdout",
     "output_type": "stream",
     "text": [
      "[[0.79242493 0.73804789]\n",
      " [0.82080719 0.78334419]\n",
      " [0.88481095 0.78188971]\n",
      " ...\n",
      " [0.87185275 0.77401673]\n",
      " [0.8695209  0.83346625]\n",
      " [0.87291473 0.74032822]]\n"
     ]
    }
   ],
   "source": [
    "y_pred = knn.predict(Cap_C3D_testset)\n",
    "print(y_pred)"
   ]
  },
  {
   "cell_type": "markdown",
   "metadata": {},
   "source": [
    "**Creating a pandas dataframe for the output result predictions**"
   ]
  },
  {
   "cell_type": "code",
   "execution_count": 77,
   "metadata": {},
   "outputs": [
    {
     "name": "stdout",
     "output_type": "stream",
     "text": [
      "Requirement already satisfied: natsort in /opt/conda/lib/python3.7/site-packages (7.0.1)\n"
     ]
    }
   ],
   "source": [
    "!pip install natsort\n",
    "from natsort import natsorted\n",
    "predictions = pd.DataFrame({'video': natsorted(labels_test['video']),\n",
    "                    'short-term_memorability': [row[0] for row in y_pred],\n",
    "                    'long-term_memorability':[row[1] for row in y_pred]\n",
    "                        })"
   ]
  },
  {
   "cell_type": "code",
   "execution_count": 82,
   "metadata": {},
   "outputs": [
    {
     "name": "stdout",
     "output_type": "stream",
     "text": [
      "              video  short-term_memorability  long-term_memorability\n",
      "count   2000.000000              2000.000000             2000.000000\n",
      "mean    8760.857500                 0.854712                0.772196\n",
      "std      730.600388                 0.030196                0.036600\n",
      "min     7494.000000                 0.717023                0.625211\n",
      "25%     8125.500000                 0.837484                0.748247\n",
      "50%     8769.000000                 0.859253                0.774683\n",
      "75%     9399.250000                 0.876557                0.797506\n",
      "max    10008.000000                 0.931045                0.871264\n"
     ]
    }
   ],
   "source": [
    "print(predictions.describe())"
   ]
  },
  {
   "cell_type": "markdown",
   "metadata": {},
   "source": [
    "**From the describe method of univariate analysis, we can see that a mean value of 0.85 is the probability of remembering the videos for a short-term and 0.77 is the probability of remembering the videos for a long-term one**"
   ]
  },
  {
   "cell_type": "code",
   "execution_count": 81,
   "metadata": {},
   "outputs": [
    {
     "name": "stdout",
     "output_type": "stream",
     "text": [
      "   video  short-term_memorability  long-term_memorability\n",
      "0   7494                 0.792425                0.738048\n",
      "1   7495                 0.820807                0.783344\n",
      "2   7496                 0.884811                0.781890\n",
      "3   7497                 0.881872                0.823072\n",
      "4   7498                 0.841656                0.784161\n"
     ]
    }
   ],
   "source": [
    "print(predictions.head())"
   ]
  },
  {
   "cell_type": "code",
   "execution_count": 83,
   "metadata": {},
   "outputs": [],
   "source": [
    "predictions.to_csv('Rebekah_Manimaran_19210518_predictions.csv')"
   ]
  }
 ],
 "metadata": {
  "environment": {
   "name": "common-cu101.m47",
   "type": "gcloud",
   "uri": "gcr.io/deeplearning-platform-release/base-cu101:m47"
  },
  "kernelspec": {
   "display_name": "Python 3",
   "language": "python",
   "name": "python3"
  },
  "language_info": {
   "codemirror_mode": {
    "name": "ipython",
    "version": 3
   },
   "file_extension": ".py",
   "mimetype": "text/x-python",
   "name": "python",
   "nbconvert_exporter": "python",
   "pygments_lexer": "ipython3",
   "version": "3.7.6"
  }
 },
 "nbformat": 4,
 "nbformat_minor": 4
}
